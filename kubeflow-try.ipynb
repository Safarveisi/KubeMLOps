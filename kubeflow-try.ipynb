{
 "cells": [
  {
   "cell_type": "code",
   "execution_count": 1,
   "metadata": {},
   "outputs": [],
   "source": [
    "import os\n",
    "import time\n",
    "import datetime\n",
    "import warnings\n",
    "\n",
    "from kfp.dsl import Dataset\n",
    "from kfp.dsl import Input\n",
    "from kfp_client_manager import KFPClientManager\n",
    "import kfp.components as comps\n",
    "import kfp.dsl as dsl\n",
    "from kfp import compiler\n",
    "from kfp import kubernetes"
   ]
  },
  {
   "cell_type": "code",
   "execution_count": 2,
   "metadata": {},
   "outputs": [],
   "source": [
    "warnings.simplefilter(action=\"ignore\", category=FutureWarning)"
   ]
  },
  {
   "cell_type": "code",
   "execution_count": 3,
   "metadata": {},
   "outputs": [],
   "source": [
    "# Initialize a KFPClientManager\n",
    "kfp_client_manager = KFPClientManager(\n",
    "    api_url=\"http://localhost:8080/pipeline\",\n",
    "    skip_tls_verify=True,\n",
    "    dex_username=\"user@example.com\",\n",
    "    dex_password=\"12341234\",\n",
    "    # can be 'ldap' or 'local' depending on your Dex configuration\n",
    "    dex_auth_type=\"local\",\n",
    "    namespace=\"kubeflow-user-example-com\",\n",
    ")"
   ]
  },
  {
   "cell_type": "code",
   "execution_count": 4,
   "metadata": {},
   "outputs": [],
   "source": [
    "kfp_client = kfp_client_manager.create_kfp_client()"
   ]
  },
  {
   "cell_type": "code",
   "execution_count": 5,
   "metadata": {},
   "outputs": [
    {
     "name": "stdout",
     "output_type": "stream",
     "text": [
      "{'experiments': [{'created_at': datetime.datetime(2025, 2, 19, 18, 38, 17, tzinfo=tzutc()),\n",
      "                  'description': None,\n",
      "                  'display_name': 'csv_cleaner',\n",
      "                  'experiment_id': '93b6988a-cc6c-4735-967f-68b01fac8dc6',\n",
      "                  'namespace': 'kubeflow-user-example-com',\n",
      "                  'storage_state': 'AVAILABLE'},\n",
      "                 {'created_at': datetime.datetime(2025, 2, 19, 19, 10, 37, tzinfo=tzutc()),\n",
      "                  'description': None,\n",
      "                  'display_name': 'show_dataframe',\n",
      "                  'experiment_id': 'b89a6cc8-bb0e-4efd-9b62-5e922a5c7e38',\n",
      "                  'namespace': 'kubeflow-user-example-com',\n",
      "                  'storage_state': 'AVAILABLE'},\n",
      "                 {'created_at': datetime.datetime(2025, 2, 19, 22, 51, 52, tzinfo=tzutc()),\n",
      "                  'description': None,\n",
      "                  'display_name': 'dataframe',\n",
      "                  'experiment_id': '4f449500-90af-4de8-a90b-ee7239cb20cb',\n",
      "                  'namespace': 'kubeflow-user-example-com',\n",
      "                  'storage_state': 'AVAILABLE'},\n",
      "                 {'created_at': datetime.datetime(2025, 2, 20, 1, 20, 41, tzinfo=tzutc()),\n",
      "                  'description': None,\n",
      "                  'display_name': 'csv_to_s3',\n",
      "                  'experiment_id': '32d11a70-aa30-4917-9024-10fc3af060ac',\n",
      "                  'namespace': 'kubeflow-user-example-com',\n",
      "                  'storage_state': 'AVAILABLE'}],\n",
      " 'next_page_token': None,\n",
      " 'total_size': 4}\n"
     ]
    }
   ],
   "source": [
    "experiments = kfp_client.list_experiments()\n",
    "print(experiments)"
   ]
  },
  {
   "cell_type": "code",
   "execution_count": 7,
   "metadata": {},
   "outputs": [],
   "source": [
    "DOWNLOAD_COMP_YML = \"./components/download/component.yml\"\n",
    "WRITE_S3_COMP_YML = \"./components/persist/component.yml\"\n",
    "TRAIN_COMP_YML = \"./components/train/component.yml\"\n",
    "PREDICT_COMP_YML = \"./components/predict/component.yml\""
   ]
  },
  {
   "cell_type": "code",
   "execution_count": 8,
   "metadata": {},
   "outputs": [],
   "source": [
    "csv_download_op = comps.load_component_from_file(DOWNLOAD_COMP_YML)\n",
    "write_s3_op = comps.load_component_from_file(WRITE_S3_COMP_YML)\n",
    "xgboost_train_on_csv_op = comps.load_component_from_file(TRAIN_COMP_YML)\n",
    "xgboost_predict_on_csv_op = comps.load_component_from_file(PREDICT_COMP_YML)"
   ]
  },
  {
   "cell_type": "code",
   "execution_count": 12,
   "metadata": {},
   "outputs": [],
   "source": [
    "@dsl.pipeline(name=\"iris-classification\", description=\"Train and predict pipeline\")\n",
    "def csv_cleaner_pipeline(persist_s3: bool):\n",
    "    \n",
    "    training_data_csv = (\n",
    "        csv_download_op() \n",
    "        .set_caching_options(enable_caching=False)\n",
    "        # Example of injecting an env variable into the comp container\n",
    "        .set_env_variable(name=\"ENV\", value=\"anything\")\n",
    "    ).outputs[\"csv_file\"]\n",
    "\n",
    "\n",
    "    with dsl.If(persist_s3 == True):\n",
    "        keys = [f\"ml_platform/iris_{i}.csv\" for i in range(5)]\n",
    "        \n",
    "        with dsl.ParallelFor(keys, parallelism=3) as key:    \n",
    "            \n",
    "            save_csv = (\n",
    "                write_s3_op(csv_file=training_data_csv, key=key)\n",
    "                .set_caching_options(enable_caching=False)\n",
    "            )\n",
    "\n",
    "            # Inject S3 credentials into the comp container as env variables\n",
    "            kubernetes.use_secret_as_env(\n",
    "                save_csv,\n",
    "                secret_name=\"s3-credentials\",\n",
    "                secret_key_to_env={'S3_BUCKET': 'bucket'})\n",
    "            \n",
    "            kubernetes.use_secret_as_env(\n",
    "                save_csv,\n",
    "                secret_name=\"s3-credentials\",\n",
    "                secret_key_to_env={'AWS_ACCESS_KEY_ID': 'access_key'})\n",
    "            \n",
    "            kubernetes.use_secret_as_env(\n",
    "                save_csv,\n",
    "                secret_name=\"s3-credentials\",\n",
    "                secret_key_to_env={'AWS_SECRET_ACCESS_KEY': 'secret_key'})\n",
    "                \n",
    "            kubernetes.use_secret_as_env(\n",
    "                save_csv,\n",
    "                secret_name=\"s3-credentials\",\n",
    "                secret_key_to_env={'S3_ENDPOINT_URL': 'endpoint_url'})\n",
    "    \n",
    "    model_trained_on_csv = xgboost_train_on_csv_op(\n",
    "        training_data=training_data_csv,\n",
    "         label_column=4,\n",
    "         objective='multi:softmax',\n",
    "         num_iterations=200\n",
    "    ).set_memory_limit('1Gi').outputs['model']\n",
    "\n",
    "    xgboost_predict_on_csv_op(\n",
    "        data=training_data_csv,\n",
    "        model=model_trained_on_csv,\n",
    "        label_column=4,\n",
    "    ).set_memory_limit('1Gi')\n",
    "    "
   ]
  },
  {
   "cell_type": "code",
   "execution_count": 13,
   "metadata": {},
   "outputs": [],
   "source": [
    "compiler.Compiler().compile(\n",
    "    pipeline_func=csv_cleaner_pipeline,\n",
    "    package_path='iris_s3_pipeline.yml')"
   ]
  },
  {
   "cell_type": "code",
   "execution_count": 11,
   "metadata": {},
   "outputs": [
    {
     "data": {
      "text/html": [
       "<a href=\"http://localhost:8080/pipeline/#/experiments/details/32d11a70-aa30-4917-9024-10fc3af060ac\" target=\"_blank\" >Experiment details</a>."
      ],
      "text/plain": [
       "<IPython.core.display.HTML object>"
      ]
     },
     "metadata": {},
     "output_type": "display_data"
    },
    {
     "data": {
      "text/html": [
       "<a href=\"http://localhost:8080/pipeline/#/runs/details/738cf60a-0f11-4a88-a7f0-107c9b1995b5\" target=\"_blank\" >Run details</a>."
      ],
      "text/plain": [
       "<IPython.core.display.HTML object>"
      ]
     },
     "metadata": {},
     "output_type": "display_data"
    }
   ],
   "source": [
    "ts = datetime.datetime.fromtimestamp(time.time()).strftime('%Y-%m-%d_%H-%M-%S')\n",
    "experiment_name = 'csv_to_s3'\n",
    "run_name = '_run_' + ts\n",
    "\n",
    "run_result = kfp_client.create_run_from_pipeline_package(\n",
    "    pipeline_file=\"iris_s3_pipeline.yml\", \n",
    "    experiment_name=experiment_name, \n",
    "    run_name=run_name,\n",
    "    arguments={\"persist_s3\": False}\n",
    ")"
   ]
  },
  {
   "cell_type": "code",
   "execution_count": null,
   "metadata": {},
   "outputs": [],
   "source": []
  }
 ],
 "metadata": {
  "kernelspec": {
   "display_name": ".venv",
   "language": "python",
   "name": "python3"
  },
  "language_info": {
   "codemirror_mode": {
    "name": "ipython",
    "version": 3
   },
   "file_extension": ".py",
   "mimetype": "text/x-python",
   "name": "python",
   "nbconvert_exporter": "python",
   "pygments_lexer": "ipython3",
   "version": "3.9.1"
  }
 },
 "nbformat": 4,
 "nbformat_minor": 2
}
