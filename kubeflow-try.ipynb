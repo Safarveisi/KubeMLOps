{
 "cells": [
  {
   "cell_type": "code",
   "execution_count": 1,
   "metadata": {},
   "outputs": [],
   "source": [
    "import os\n",
    "import time\n",
    "import datetime\n",
    "import warnings\n",
    "\n",
    "from kfp.dsl import Dataset\n",
    "from kfp.dsl import Input\n",
    "from kfp_client_manager import KFPClientManager\n",
    "import kfp.components as comps\n",
    "import kfp.dsl as dsl\n",
    "from kfp import compiler\n",
    "from kfp import kubernetes"
   ]
  },
  {
   "cell_type": "code",
   "execution_count": 2,
   "metadata": {},
   "outputs": [],
   "source": [
    "warnings.simplefilter(action=\"ignore\", category=FutureWarning)"
   ]
  },
  {
   "cell_type": "code",
   "execution_count": 3,
   "metadata": {},
   "outputs": [],
   "source": [
    "# Initialize a KFPClientManager\n",
    "kfp_client_manager = KFPClientManager(\n",
    "    api_url=\"http://localhost:8080/pipeline\",\n",
    "    skip_tls_verify=True,\n",
    "    dex_username=\"user@example.com\",\n",
    "    dex_password=\"12341234\",\n",
    "    # can be 'ldap' or 'local' depending on your Dex configuration\n",
    "    dex_auth_type=\"local\",\n",
    "    namespace=\"kubeflow-user-example-com\",\n",
    ")"
   ]
  },
  {
   "cell_type": "code",
   "execution_count": 4,
   "metadata": {},
   "outputs": [],
   "source": [
    "kfp_client = kfp_client_manager.create_kfp_client()"
   ]
  },
  {
   "cell_type": "code",
   "execution_count": 5,
   "metadata": {},
   "outputs": [
    {
     "name": "stdout",
     "output_type": "stream",
     "text": [
      "{'experiments': [{'created_at': datetime.datetime(2025, 2, 19, 18, 38, 17, tzinfo=tzutc()),\n",
      "                  'description': None,\n",
      "                  'display_name': 'csv_cleaner',\n",
      "                  'experiment_id': '93b6988a-cc6c-4735-967f-68b01fac8dc6',\n",
      "                  'namespace': 'kubeflow-user-example-com',\n",
      "                  'storage_state': 'AVAILABLE'},\n",
      "                 {'created_at': datetime.datetime(2025, 2, 19, 19, 10, 37, tzinfo=tzutc()),\n",
      "                  'description': None,\n",
      "                  'display_name': 'show_dataframe',\n",
      "                  'experiment_id': 'b89a6cc8-bb0e-4efd-9b62-5e922a5c7e38',\n",
      "                  'namespace': 'kubeflow-user-example-com',\n",
      "                  'storage_state': 'AVAILABLE'},\n",
      "                 {'created_at': datetime.datetime(2025, 2, 19, 22, 51, 52, tzinfo=tzutc()),\n",
      "                  'description': None,\n",
      "                  'display_name': 'dataframe',\n",
      "                  'experiment_id': '4f449500-90af-4de8-a90b-ee7239cb20cb',\n",
      "                  'namespace': 'kubeflow-user-example-com',\n",
      "                  'storage_state': 'AVAILABLE'},\n",
      "                 {'created_at': datetime.datetime(2025, 2, 20, 1, 20, 41, tzinfo=tzutc()),\n",
      "                  'description': None,\n",
      "                  'display_name': 'csv_to_s3',\n",
      "                  'experiment_id': '32d11a70-aa30-4917-9024-10fc3af060ac',\n",
      "                  'namespace': 'kubeflow-user-example-com',\n",
      "                  'storage_state': 'AVAILABLE'}],\n",
      " 'next_page_token': None,\n",
      " 'total_size': 4}\n"
     ]
    }
   ],
   "source": [
    "experiments = kfp_client.list_experiments()\n",
    "print(experiments)"
   ]
  },
  {
   "cell_type": "code",
   "execution_count": 6,
   "metadata": {},
   "outputs": [],
   "source": [
    "DOWNLOAD_COMP_YML = \"./components/download/component.yml\"\n",
    "CLEANING_COMP_YML = \"./components/cleaning/component.yml\""
   ]
  },
  {
   "cell_type": "code",
   "execution_count": 7,
   "metadata": {},
   "outputs": [],
   "source": [
    "download_op = comps.load_component_from_file(DOWNLOAD_COMP_YML)\n",
    "clean_op = comps.load_component_from_file(CLEANING_COMP_YML)"
   ]
  },
  {
   "cell_type": "code",
   "execution_count": 15,
   "metadata": {},
   "outputs": [],
   "source": [
    "@dsl.pipeline(name=\"iris\", description=\"ETL pipeline\")\n",
    "def csv_cleaner_pipeline():\n",
    "    \n",
    "    comp_download = (\n",
    "        download_op() \n",
    "        .set_caching_options(enable_caching=False)\n",
    "        .set_env_variable(name=\"ENV\", value=\"anything\")\n",
    "    )\n",
    "\n",
    "\n",
    "    keys = [f\"ml_platform/iris_{i}.csv\" for i in range(5)]\n",
    "        \n",
    "\n",
    "    with dsl.ParallelFor(keys, parallelism=3) as key:    \n",
    "        \n",
    "        comp_show_df = (\n",
    "            clean_op(csv_file=comp_download.outputs[\"csv_file\"], key=key)\n",
    "            .set_caching_options(enable_caching=False)\n",
    "        )\n",
    "\n",
    "        # Inject S3 credentials into the comp container as env variables\n",
    "        kubernetes.use_secret_as_env(\n",
    "            comp_show_df,\n",
    "            secret_name=\"s3-credentials\",\n",
    "            secret_key_to_env={'S3_BUCKET': 'bucket'})\n",
    "        \n",
    "        kubernetes.use_secret_as_env(\n",
    "            comp_show_df,\n",
    "            secret_name=\"s3-credentials\",\n",
    "            secret_key_to_env={'AWS_ACCESS_KEY_ID': 'access_key'})\n",
    "        \n",
    "        kubernetes.use_secret_as_env(\n",
    "            comp_show_df,\n",
    "            secret_name=\"s3-credentials\",\n",
    "            secret_key_to_env={'AWS_SECRET_ACCESS_KEY': 'secret_key'})\n",
    "            \n",
    "        kubernetes.use_secret_as_env(\n",
    "            comp_show_df,\n",
    "            secret_name=\"s3-credentials\",\n",
    "            secret_key_to_env={'S3_ENDPOINT_URL': 'endpoint_url'})"
   ]
  },
  {
   "cell_type": "code",
   "execution_count": 16,
   "metadata": {},
   "outputs": [],
   "source": [
    "compiler.Compiler().compile(\n",
    "    pipeline_func=csv_cleaner_pipeline,\n",
    "    package_path='iris_s3_pipeline.yml')"
   ]
  },
  {
   "cell_type": "code",
   "execution_count": 17,
   "metadata": {},
   "outputs": [
    {
     "data": {
      "text/html": [
       "<a href=\"http://localhost:8080/pipeline/#/experiments/details/32d11a70-aa30-4917-9024-10fc3af060ac\" target=\"_blank\" >Experiment details</a>."
      ],
      "text/plain": [
       "<IPython.core.display.HTML object>"
      ]
     },
     "metadata": {},
     "output_type": "display_data"
    },
    {
     "data": {
      "text/html": [
       "<a href=\"http://localhost:8080/pipeline/#/runs/details/c05f661e-05a6-489c-831b-f59b1055bf99\" target=\"_blank\" >Run details</a>."
      ],
      "text/plain": [
       "<IPython.core.display.HTML object>"
      ]
     },
     "metadata": {},
     "output_type": "display_data"
    }
   ],
   "source": [
    "ts = datetime.datetime.fromtimestamp(time.time()).strftime('%Y-%m-%d_%H-%M-%S')\n",
    "experiment_name = 'csv_to_s3'\n",
    "run_name = '_run_' + ts\n",
    "\n",
    "run_result = kfp_client.create_run_from_pipeline_package(\n",
    "    pipeline_file=\"iris_s3_pipeline.yml\", \n",
    "    experiment_name=experiment_name, \n",
    "    run_name=run_name,\n",
    ")"
   ]
  },
  {
   "cell_type": "code",
   "execution_count": null,
   "metadata": {},
   "outputs": [],
   "source": []
  }
 ],
 "metadata": {
  "kernelspec": {
   "display_name": ".venv",
   "language": "python",
   "name": "python3"
  },
  "language_info": {
   "codemirror_mode": {
    "name": "ipython",
    "version": 3
   },
   "file_extension": ".py",
   "mimetype": "text/x-python",
   "name": "python",
   "nbconvert_exporter": "python",
   "pygments_lexer": "ipython3",
   "version": "3.9.1"
  }
 },
 "nbformat": 4,
 "nbformat_minor": 2
}
